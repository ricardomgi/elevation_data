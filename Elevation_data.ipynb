{
  "nbformat": 4,
  "nbformat_minor": 0,
  "metadata": {
    "colab": {
      "name": "Elevation_data.ipynb",
      "provenance": [],
      "collapsed_sections": [
        "ryKHf6wf860a",
        "Nns8oPWK9BoR",
        "ir6mgw2jOEKI",
        "Ts3jxKeyOaUi",
        "ZIAkZ3wnPxCL",
        "dInWMReTMsT9",
        "tV-j3YKU1GVN"
      ],
      "authorship_tag": "ABX9TyPBk21+tdo2B/8xg7Md88Dr",
      "include_colab_link": true
    },
    "kernelspec": {
      "name": "python3",
      "display_name": "Python 3"
    },
    "language_info": {
      "name": "python"
    }
  },
  "cells": [
    {
      "cell_type": "markdown",
      "metadata": {
        "id": "view-in-github",
        "colab_type": "text"
      },
      "source": [
        "<a href=\"https://colab.research.google.com/github/ricardomgi/elevation_data/blob/main/Elevation_data.ipynb\" target=\"_parent\"><img src=\"https://colab.research.google.com/assets/colab-badge.svg\" alt=\"Open In Colab\"/></a>"
      ]
    },
    {
      "cell_type": "code",
      "source": [
        "import requests\n",
        "import json\n",
        "import pandas as pd\n",
        "import numpy as np\n",
        "import time"
      ],
      "metadata": {
        "id": "mlVQwV7L85-U"
      },
      "execution_count": null,
      "outputs": []
    },
    {
      "cell_type": "markdown",
      "source": [
        "### **Open Elevetaion API**\n",
        "\n",
        "Documentation: https://open-elevation.com"
      ],
      "metadata": {
        "id": "ryKHf6wf860a"
      }
    },
    {
      "cell_type": "code",
      "metadata": {
        "id": "1RM21JARsJa0"
      },
      "source": [
        "# script for returning elevation from lat, long, based on open elevation data\n",
        "# which in turn is based on SRTM\n",
        "def get_elevation_oea(lat, long):\n",
        "    query = ('https://api.open-elevation.com/api/v1/lookup'\n",
        "             f'?locations={lat},{long}')\n",
        "    r = requests.get(query).json()  # json object, various ways you can extract value\n",
        "    # Only get the json response in case of 200 or 201\n",
        "    if r.status_code == 200 or r.status_code == 201:\n",
        "      # one approach is to use pandas json functionality:\n",
        "      elevation = pd.json_normalize(r, 'results')['elevation'].values[0]\n",
        "    else: \n",
        "      elevation = None\n",
        "    return elevation\n",
        "\n",
        "def get_elevation_oea_multiple(locs):\n",
        "    url = 'https://api.open-elevation.com/api/v1/lookup'\n",
        "    coords_data = ''\n",
        "    for x in range(len(locs)):\n",
        "      coordinates = f'\"latitude\":{list(zip(*locs))[0][x]},\"longitude\":{list(zip(*locs))[1][x]}'\n",
        "      coords_data = coords_data + '{' + coordinates + '},'\n",
        "    coords_data = coords_data[:-1]\n",
        "    coords_data = '{\"locations\": [' + coords_data + ']}'\n",
        "    r = requests.post(url, json=coords_data)\n",
        "    # Only get the json response in case of 200 or 201\n",
        "    if r.status_code == 200 or r.status_code == 201:\n",
        "      parsed = json.loads(r.text)\n",
        "      # Extract elevations from result\n",
        "      elevation = [i['elevation'] for i in parsed['results']]\n",
        "    else: \n",
        "        elevation = None\n",
        "    return elevation"
      ],
      "execution_count": null,
      "outputs": []
    },
    {
      "cell_type": "markdown",
      "source": [
        "### **Open Topo Data**\n",
        "\n",
        "Documentation: https://www.opentopodata.org"
      ],
      "metadata": {
        "id": "Nns8oPWK9BoR"
      }
    },
    {
      "cell_type": "code",
      "source": [
        "# script for returning elevation from lat, long, based on Open Topo Data\n",
        "# Datasets: mapzen, aster30m, srtm30m, srtm90m, etopo1\n",
        "# Resolution: ~30 m\n",
        "# Extent: Global\n",
        "def get_elevation_otd(lat, long, dataset='mapzen'):\n",
        "    query = ('https://api.opentopodata.org/v1/'\n",
        "             f'{dataset}?locations={lat},{long}')\n",
        "    r = requests.get(query).json()  # json object, various ways you can extract value\n",
        "    # one approach is to use pandas json functionality:\n",
        "    elevation = pd.json_normalize(r, 'results')['elevation'].values[0]\n",
        "    return elevation\n",
        "\n",
        "# script for returning elevation from lat, long, based on Open Topo Data\n",
        "# Datasets: mapzen, aster30m, srtm30m, srtm90m, etopo1\n",
        "# Resolution: ~30 m\n",
        "# Extent: Global\n",
        "def get_elevation_otd_multiple(locs, dataset='mapzen'):\n",
        "    url = 'https://api.opentopodata.org/v1/' + dataset\n",
        "    data = {\"locations\": locs}\n",
        "    response = requests.post(url, data=data).json() # json object, various ways you can extract value\n",
        "    # one approach is to use pandas json functionality:\n",
        "    elevation = pd.json_normalize(response, 'results')['elevation'].values\n",
        "    elevation = elevation.astype(int)\n",
        "    return elevation"
      ],
      "metadata": {
        "id": "sOi-kP99MKQ8"
      },
      "execution_count": null,
      "outputs": []
    },
    {
      "cell_type": "markdown",
      "source": [
        "### **Google Elevation API**\n",
        "\n",
        "Documentation: https://developers.google.com/maps/documentation/elevation/overview"
      ],
      "metadata": {
        "id": "ir6mgw2jOEKI"
      }
    },
    {
      "cell_type": "code",
      "source": [
        "# Configure API request link\n",
        "def get_elevation_gapi(lat, long):\n",
        "  key_str = \"API_key\"\n",
        "  url = \"https://maps.googleapis.com/maps/api/elevation/json\"\n",
        "  # Make request, parse results\n",
        "  r = requests.get(url+\"?locations=\"+str(lat)+\",\"+str(long)+\"&key=\"+key_str).json()\n",
        "  # one approach is to use pandas json functionality:\n",
        "  elevation = pd.json_normalize(r, 'results')['elevation'].values[0]\n",
        "  return round(elevation, 2)\n",
        "\n",
        "def get_elevation_gapi_multiple(locs):\n",
        "  url_root = \"https://maps.googleapis.com/maps/api/elevation\"\n",
        "  key_str = \"API_key\"\n",
        "  output_fmt = \"json\"\n",
        "  request_str = \"%s/%s?locations=%s&key=%s\"\n",
        "  # Make request, parse results\n",
        "  r = requests.get(request_str % (url_root,output_fmt,locs,key_str))\n",
        "  parsed = json.loads(r.text)\n",
        "  # Extract elevations from result\n",
        "  elevation = [i['elevation'] for i in parsed['results']]\n",
        "  elevation = list(np.around(np.array(elevation),2))\n",
        "  return elevation"
      ],
      "metadata": {
        "id": "APxRIwHNOKqI"
      },
      "execution_count": null,
      "outputs": []
    },
    {
      "cell_type": "markdown",
      "source": [
        "### **Get the elevation data at one (latitude,longitude) point:**\n",
        "\n",
        "Can be used to obtain the elevation of a single point"
      ],
      "metadata": {
        "id": "Ts3jxKeyOaUi"
      }
    },
    {
      "cell_type": "code",
      "source": [
        "print(get_elevation_oea(4.7967, -75.7923))\n",
        "print(get_elevation_otd(4.7967, -75.7923, 'mapzen'))\n",
        "print(get_elevation_gapi(4.7967, -75.7923))"
      ],
      "metadata": {
        "id": "bTzsr8aFNE8k"
      },
      "execution_count": null,
      "outputs": []
    },
    {
      "cell_type": "markdown",
      "source": [
        "### **Get the elevations of multiple locations:**\n",
        "\n",
        "Can be used to get the elevation of multiple coordinates. If you plan on making large requests, consider using the POST api.\n",
        "\n",
        "**Open Elevation API Note:** The GET API is limited to 1024 bytes in the request line.\n",
        "\n",
        "**Google API Note:** URLs must be properly encoded to be valid and are limited to 8192 characters for all web services. Be aware of this limit when constructing your URLs. Note that different browsers, proxies, and servers may have different URL character limits as well."
      ],
      "metadata": {
        "id": "ZIAkZ3wnPxCL"
      }
    },
    {
      "cell_type": "code",
      "source": [
        "# Function to concat the coordinates\n",
        "def locations(lat, long):\n",
        "  locs=''\n",
        "  for x in tuple(zip(lat, long)):\n",
        "    locs += str(x[0]) + ',' + str(x[1]) + '|'\n",
        "  locs = locs[:-1]\n",
        "  return locs\n",
        "\n",
        "list_coords = [(6.17593, -75.6260), (6.17593, -75.6260), (5.92688, -75.6758)]\n",
        "lcs = locations(list(zip(*list_coords))[0], list(zip(*list_coords))[1])\n",
        "print(get_elevation_oea_multiple(coords))\n",
        "print(get_elevation_otd_multiple(lcs))\n",
        "print(get_elevation_gapi_multiple(lcs))"
      ],
      "metadata": {
        "id": "ijaSU2ppOJs7"
      },
      "execution_count": null,
      "outputs": []
    },
    {
      "cell_type": "markdown",
      "source": [
        "### **Function to get the elevation data for multiple points**\n",
        "\n",
        "Any of the mentioned APIs can be used as an argument:\n",
        "\n",
        "*   Open Elevation API -> **oea**\n",
        "*   Open Topo Data API -> **otd**\n",
        "*   Google Elevation API -> **gapi**\n",
        "\n",
        "The quotas used for each API are the following according to their documentation:\n",
        "\n",
        "**Open Elevation API:**\n",
        "*   The GET API is limited to 1024 bytes in the request line\n",
        "*   The POST API currently has no limit\n",
        "\n",
        "**Open topo Data API:**\n",
        "*   Max **100** locations per request\n",
        "*   Max **1** call per second\n",
        "*   Max **1000** calls per day\n",
        "\n",
        "**Google Elevation API**:\n",
        "*   **512** locations per request\n",
        "*   **100** requests per second (QPS)\n",
        "*   No longer limited to a maximum number of requests per day (QPD)\n",
        "\n",
        "\n"
      ],
      "metadata": {
        "id": "dInWMReTMsT9"
      }
    },
    {
      "cell_type": "code",
      "source": [
        "def elevation(coords, api, otd_dataset='mapzen'):\n",
        "  if api == 'oea':\n",
        "    request = 1000\n",
        "  elif api == 'otd':\n",
        "    request = 100\n",
        "  elif api == 'gapi':\n",
        "    request = 512\n",
        "  elev = []\n",
        "  iterations = int(len(coords)/request) + 1\n",
        "  for x in range(iterations):\n",
        "      iter_str = coords[x*request:(x+1)*request]\n",
        "      #Build concatenated string for API request\n",
        "      locs = '|'.join(iter_str)\n",
        "      #Make request, parse results\n",
        "      if api == 'oea':\n",
        "        elev = elev + get_elevation_oea_multiple(coords)\n",
        "      elif api == 'otd':\n",
        "        elev = elev + list(get_elevation_otd_multiple(locs, otd_dataset))\n",
        "      elif api == 'gapi':\n",
        "        elev = elev + get_elevation_gapi_multiple(locs)\n",
        "      #Slow down API requests so we aren't blocked\n",
        "      time.sleep(1)\n",
        "  return elev"
      ],
      "metadata": {
        "id": "cowbGHQ_Mqsf"
      },
      "execution_count": null,
      "outputs": []
    },
    {
      "cell_type": "markdown",
      "source": [
        "### **Get de elevation data from multiple point in dataframe Latitude and Longitude colummns**"
      ],
      "metadata": {
        "id": "tV-j3YKU1GVN"
      }
    },
    {
      "cell_type": "code",
      "source": [
        "data = pd.read_csv('Data_test.csv', sep=';')\n",
        "data = data[pd.to_numeric(data[\"Latitude\"], errors='coerce').notnull()]\n",
        "data = data[pd.to_numeric(data[\"Longitude\"], errors='coerce').notnull()]\n",
        "\n",
        "# Concat latitude and longitude separated by comma\n",
        "list_coords = list(data.Latitude.astype(str) + ',' + data.Longitude.astype(str))\n",
        "\n",
        "# Get de elevation data from APIs\n",
        "data['Elevation_OTD'] = elevation(list_coords, 'otd')\n",
        "data['Elevation_GAPI'] = elevation(list_coords, 'gapi')\n",
        "\n",
        "print(data)"
      ],
      "metadata": {
        "id": "QNzCWDTzW7BT"
      },
      "execution_count": null,
      "outputs": []
    }
  ]
}